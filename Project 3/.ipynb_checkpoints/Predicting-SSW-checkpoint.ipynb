{
 "cells": [
  {
   "cell_type": "markdown",
   "id": "a2e2bb10",
   "metadata": {},
   "source": [
    "# Project 3: Predicting Seam Shifted Wake\n",
    "### Eddie Dew\n",
    "\n",
    "## Problem Statement\n",
    "Major League Baseball (MLB) has provided the public with open source data, something most other sports limit, which has allowed for the game to evolve and look at ascpects never delved into before. For the pitching side, pitch level data has inspired many different projects from starting with simply predicting what kind of pitch will be thrown to now predicting the movement of a pitch that's solely based on the seams. That's right, the seams of a baseball have been studied to find ways to make a pitch move without simply spinning the ball as much as possible. Before, it was known that a baseball moved from gravitational forces and the magnus effect, the differences in air displacement on the ball as it reached home plate. Dr. Barton Smith and his team at Utah State University conducted a study hypothesizing that certain spin axis of a baseball can create air displacement on the seams of a baseball, leading to more movement. This was a huge discovery as it can pave careers for players who don't throw as hard to find success in today's game that values high velocity and high spin rate. The main idea to generate seam shifted wake is to throw a pitch slightly off it's axis (or to put it another way, throwing an inefficient pitch where the most efficient pitch is rotating perfectly in line with home plate). The pitch should be thrown off axis (such as a slider) but with enough speed to create an illusion to the hitter that the pitch is breaking more (or less) than what they concluded by gravity and spin of the baseball. The goal of this project is to model this effect using baseball savant data.\n",
    "If this is something you would like to do more research on, here is the link to the paper: https://digitalcommons.usu.edu/cgi/viewcontent.cgi?article=9043&context=etd\n",
    "\n",
    "## Data \n",
    "The dataset comes from [baseball savant](https://baseballsavant.mlb.com) scraped by [pybaseball](https://github.com/jldbc/pybaseball). I collected data of every MLB pitch from 2019 to 2023, resulting in over 3 million observations. From personal experience working with this data, there are little to no NA values regarding the features I will be using. \n"
   ]
  },
  {
   "cell_type": "code",
   "execution_count": 1,
   "id": "8ed601cc",
   "metadata": {},
   "outputs": [],
   "source": [
    "import pandas as pd\n",
    "import numpy as np\n",
    "import seaborn as sns"
   ]
  },
  {
   "cell_type": "code",
   "execution_count": 2,
   "id": "2f2d3c82",
   "metadata": {},
   "outputs": [],
   "source": [
    "savant = pd.read_csv('/Users/eddie/Eddie_Dew_Python/Plus Models/2019-2023statcast.csv', index_col = 0)"
   ]
  },
  {
   "cell_type": "code",
   "execution_count": 3,
   "id": "a4a802c9",
   "metadata": {},
   "outputs": [],
   "source": [
    "# Filter where hawkeye was implemented (greater than 2019)\n",
    "savant = savant[savant['game_date'] > 2019]"
   ]
  },
  {
   "cell_type": "code",
   "execution_count": 4,
   "id": "479bb436",
   "metadata": {},
   "outputs": [],
   "source": [
    "pd.set_option('display.float_format', '{:.3f}'.format)\n",
    "savant.loc[savant['balls'] == 4, 'balls'] = 3\n",
    "savant.loc[savant['strikes'] == 3, 'strikes'] = 2"
   ]
  },
  {
   "cell_type": "code",
   "execution_count": 5,
   "id": "ccd44881",
   "metadata": {},
   "outputs": [],
   "source": [
    "# Change lefty trajectory to a righty for less to test\n",
    "savant['pfx_x'] = np.where(savant['p_throws'] == 'L', savant['pfx_x'].mul(-1), savant['pfx_x'])\n",
    "savant['release_pos_x'] = np.where(savant['p_throws'] == 'L', savant['release_pos_x'].mul(-1), savant['release_pos_x'])\n",
    "savant.loc[savant['p_throws'] == 'L', 'spin_axis'] = 360 - savant.loc[savant['p_throws'] == 'L', 'spin_axis']\n",
    "\n",
    "savant['plate_x'] = np.where(savant['p_throws'] == 'L', savant['plate_x'].mul(-1), savant['plate_x'])"
   ]
  },
  {
   "cell_type": "code",
   "execution_count": 6,
   "id": "a1f8e6b6",
   "metadata": {},
   "outputs": [],
   "source": [
    "# Reference: https://www.kaggle.com/code/s903124/observed-vs-inferred-spin-axis\n",
    "yR = 60-savant.release_extension\n",
    "tR = (-savant.vy0 - (savant.vy0**2-2*savant.ay*(50-yR))**0.5)/savant.ay\n",
    "vxR = savant.vx0 + savant.ax * tR\n",
    "vyR = savant.vy0 + savant.ay * tR\n",
    "vzR = savant.vz0 + savant.az * tR\n",
    "dv0 = savant.release_speed - (vxR**2+vyR**2+vzR**2)**0.5/1.467\n",
    "tf = (-vyR-(vyR**2-2*savant.ay*(yR-17/12))**0.5)/savant.ay\n",
    "\n",
    "x_mvt = savant.plate_x - savant.release_pos_x - (vxR/vyR)*(17/12-yR)\n",
    "z_mvt = savant.plate_z - savant.release_pos_z - (vzR/vyR)*(17/12-yR) + 0.5*32.174*tf**2\n",
    "\n",
    "vxbar = (2*vxR+savant.ax*tf)/2\n",
    "vybar = (2*vyR+savant.ay*tf)/2\n",
    "vzbar = (2*vzR+savant.az*tf)/2\n",
    "vbar = (vxbar**2+vybar**2+vzbar**2)**0.5\n",
    "\n",
    "\n",
    "adrag = -(savant.ax*vxbar+savant.ay*vybar+(savant.az+32.174)*vzbar)/vbar\n",
    "Cd = adrag/(5.153E-03*vbar**2)\n",
    "\n",
    "amagx = savant.ax+adrag*vxbar/vbar\n",
    "amagy = savant.ay+adrag*vybar/vbar\n",
    "amagz = savant.az+adrag*vzbar/vbar+32.174\n",
    "amag = (amagx**2+amagy**2+amagz**2)**0.5\n",
    "\n",
    "Mx = 0.5*amagx*tf**2*12\n",
    "Mz = 0.5*amagz*tf**2*12\n",
    "\n",
    "Cl = amag/(5.153E-03*vbar**2)\n",
    "S = 0.4*Cl/(1-2.32*Cl)\n",
    "\n",
    "savant['spinT'] = 78.92*S*vbar\n",
    "savant['spin_eff'] = savant.spinT/savant.release_spin_rate\n"
   ]
  },
  {
   "cell_type": "code",
   "execution_count": 7,
   "id": "dad2cbcb",
   "metadata": {},
   "outputs": [
    {
     "data": {
      "text/plain": [
       "<Axes: xlabel='spin_eff'>"
      ]
     },
     "execution_count": 7,
     "metadata": {},
     "output_type": "execute_result"
    },
    {
     "data": {
      "image/png": "[encoded data removed]",
      "text/plain": [
       "<Figure size 640x480 with 1 Axes>"
      ]
     },
     "metadata": {},
     "output_type": "display_data"
    }
   ],
   "source": [
    "sns.boxplot(x='spin_eff', data=savant)"
   ]
  },
  {
   "cell_type": "code",
   "execution_count": 8,
   "id": "9bd2d82c",
   "metadata": {},
   "outputs": [
    {
     "data": {
      "text/plain": [
       "<Axes: xlabel='spin_eff'>"
      ]
     },
     "execution_count": 8,
     "metadata": {},
     "output_type": "execute_result"
    },
    {
     "data": {
      "image/png": "[encoded data removed]",
      "text/plain": [
       "<Figure size 640x480 with 1 Axes>"
      ]
     },
     "metadata": {},
     "output_type": "display_data"
    }
   ],
   "source": [
    "# Remove Unnecessary Outliers\n",
    "savant = savant.query('spin_eff <=1 & spin_eff >=0')\n",
    "savant.dropna(subset=['pfx_x', 'pfx_z'], inplace = True)\n",
    "sns.boxplot(x='spin_eff', data=savant)"
   ]
  },
  {
   "cell_type": "code",
   "execution_count": 9,
   "id": "62cf8a0d",
   "metadata": {},
   "outputs": [
    {
     "data": {
      "text/plain": [
       "pitch_name\n",
       "Sinker            0.742\n",
       "Changeup          0.701\n",
       "4-Seam Fastball   0.699\n",
       "Pitch Out         0.657\n",
       "Slow Curve        0.621\n",
       "Split-Finger      0.604\n",
       "Other             0.601\n",
       "Slurve            0.502\n",
       "Curveball         0.497\n",
       "Forkball          0.484\n",
       "Sweeper           0.477\n",
       "Knuckle Curve     0.472\n",
       "Eephus            0.449\n",
       "Knuckleball       0.436\n",
       "Screwball         0.367\n",
       "Cutter            0.226\n",
       "Slider            0.195\n",
       "Name: spin_eff, dtype: float64"
      ]
     },
     "execution_count": 9,
     "metadata": {},
     "output_type": "execute_result"
    }
   ],
   "source": [
    "savant.groupby('pitch_name')['spin_eff'].mean().sort_values(ascending=False)"
   ]
  },
  {
   "cell_type": "code",
   "execution_count": 10,
   "id": "8c460243",
   "metadata": {},
   "outputs": [
    {
     "data": {
      "text/plain": [
       "game_date  player_name       pitch_name     \n",
       "2020       Diehl, Phillip    Sinker            0.998\n",
       "           Brothers, Rex     Sinker            0.997\n",
       "2021       Allard, Kolby     Sinker            0.997\n",
       "2020       Kluber, Corey     Changeup          0.991\n",
       "2022       Pérez, Francisco  Sinker            0.989\n",
       "2021       Espinal, Raynel   Sinker            0.988\n",
       "           Santos, Antonio   Sinker            0.986\n",
       "           Wade, Konner      4-Seam Fastball   0.986\n",
       "2023       Cordero, Jimmy    4-Seam Fastball   0.985\n",
       "2021       Cousins, Jake     4-Seam Fastball   0.984\n",
       "           Weaver, Luke      Sinker            0.982\n",
       "2023       Manaea, Sean      Sinker            0.982\n",
       "2022       Flexen, Chris     Sinker            0.981\n",
       "2020       Anderson, Ian     Sinker            0.980\n",
       "2023       Burdi, Zack       Changeup          0.979\n",
       "2022       Baumann, Mike     Sinker            0.976\n",
       "2023       Green, Chad       Changeup          0.975\n",
       "2022       Gallen, Zac       Sinker            0.973\n",
       "2021       Pivetta, Nick     Sinker            0.972\n",
       "           Dolis, Rafael     4-Seam Fastball   0.969\n",
       "Name: spin_eff, dtype: float64"
      ]
     },
     "execution_count": 10,
     "metadata": {},
     "output_type": "execute_result"
    }
   ],
   "source": [
    "savant.groupby(['game_date', 'player_name', 'pitch_name'])['spin_eff'].mean().sort_values(ascending=False).head(20)\n",
    "\n"
   ]
  },
  {
   "cell_type": "code",
   "execution_count": 11,
   "id": "e0260448",
   "metadata": {},
   "outputs": [],
   "source": [
    "# Goal: Compute expected spin for horizontal and vertical movement\n",
    "features = ['spin_axis', 'release_spin_rate', 'spin_eff']\n",
    "target_x = 'pfx_x'\n",
    "target_z = 'pfx_z'\n"
   ]
  },
  {
   "cell_type": "code",
   "execution_count": 12,
   "id": "86740a8b",
   "metadata": {},
   "outputs": [],
   "source": [
    "from tqdm import tqdm\n",
    "import statsmodels.api as sm\n",
    "from statsmodels.stats.anova import anova_lm\n",
    "from sklearn.linear_model import LinearRegression\n",
    "from xgboost import XGBRegressor\n",
    "from sklearn.model_selection import train_test_split, KFold\n",
    "from sklearn.metrics import r2_score, mean_squared_error, mean_absolute_error\n"
   ]
  },
  {
   "cell_type": "code",
   "execution_count": 13,
   "id": "eac7b2a4",
   "metadata": {},
   "outputs": [],
   "source": [
    "X = savant[features]\n",
    "y_x = savant[target_x]\n",
    "y_z = savant[target_z]"
   ]
  },
  {
   "cell_type": "code",
   "execution_count": 14,
   "id": "75109778",
   "metadata": {},
   "outputs": [],
   "source": [
    "model_x = sm.OLS(y_x, X)\n",
    "results_x = model_x.fit()\n",
    "\n",
    "model_z = sm.OLS(y_z, X)\n",
    "results_z = model_z.fit()"
   ]
  },
  {
   "cell_type": "code",
   "execution_count": 15,
   "id": "fbeee893",
   "metadata": {},
   "outputs": [
    {
     "name": "stdout",
     "output_type": "stream",
     "text": [
      "   \t\t\t\t   Horizontal Break\n",
      "\n",
      "\n",
      "\n",
      "\n",
      "\n",
      "                                 OLS Regression Results                                \n",
      "=======================================================================================\n",
      "Dep. Variable:                  pfx_x   R-squared (uncentered):                   0.764\n",
      "Model:                            OLS   Adj. R-squared (uncentered):              0.764\n",
      "Method:                 Least Squares   F-statistic:                          2.387e+06\n",
      "Date:                Fri, 01 Nov 2024   Prob (F-statistic):                        0.00\n",
      "Time:                        11:55:59   Log-Likelihood:                     -1.1603e+06\n",
      "No. Observations:             2215782   AIC:                                  2.321e+06\n",
      "Df Residuals:                 2215779   BIC:                                  2.321e+06\n",
      "Df Model:                           3                                                  \n",
      "Covariance Type:            nonrobust                                                  \n",
      "=====================================================================================\n",
      "                        coef    std err          t      P>|t|      [0.025      0.975]\n",
      "-------------------------------------------------------------------------------------\n",
      "spin_axis            -0.0062   3.73e-06  -1669.784      0.000      -0.006      -0.006\n",
      "release_spin_rate     0.0005   2.73e-07   1952.369      0.000       0.001       0.001\n",
      "spin_eff             -0.7313      0.001   -685.763      0.000      -0.733      -0.729\n",
      "==============================================================================\n",
      "Omnibus:                    85976.802   Durbin-Watson:                   1.425\n",
      "Prob(Omnibus):                  0.000   Jarque-Bera (JB):           141659.824\n",
      "Skew:                           0.344   Prob(JB):                         0.00\n",
      "Kurtosis:                       4.029   Cond. No.                     8.89e+03\n",
      "==============================================================================\n",
      "\n",
      "Notes:\n",
      "[1] R² is computed without centering (uncentered) since the model does not contain a constant.\n",
      "[2] Standard Errors assume that the covariance matrix of the errors is correctly specified.\n",
      "[3] The condition number is large, 8.89e+03. This might indicate that there are\n",
      "strong multicollinearity or other numerical problems.\n"
     ]
    }
   ],
   "source": [
    "print('\\t\\t\\t\\t'.center(10) + 'Horizontal Break\\n' + '\\n' * 4)\n",
    "print(results_x.summary())"
   ]
  },
  {
   "cell_type": "code",
   "execution_count": 16,
   "id": "b7821868",
   "metadata": {},
   "outputs": [
    {
     "name": "stdout",
     "output_type": "stream",
     "text": [
      "   \t\t\t\t   Vertical Break\n",
      "\n",
      "\n",
      "\n",
      "\n",
      "\n",
      "                                 OLS Regression Results                                \n",
      "=======================================================================================\n",
      "Dep. Variable:                  pfx_z   R-squared (uncentered):                   0.656\n",
      "Model:                            OLS   Adj. R-squared (uncentered):              0.656\n",
      "Method:                 Least Squares   F-statistic:                          1.408e+06\n",
      "Date:                Fri, 01 Nov 2024   Prob (F-statistic):                        0.00\n",
      "Time:                        11:56:01   Log-Likelihood:                     -1.8117e+06\n",
      "No. Observations:             2215782   AIC:                                  3.623e+06\n",
      "Df Residuals:                 2215779   BIC:                                  3.623e+06\n",
      "Df Model:                           3                                                  \n",
      "Covariance Type:            nonrobust                                                  \n",
      "=====================================================================================\n",
      "                        coef    std err          t      P>|t|      [0.025      0.975]\n",
      "-------------------------------------------------------------------------------------\n",
      "spin_axis             0.0051   5.01e-06   1012.448      0.000       0.005       0.005\n",
      "release_spin_rate    -0.0002   3.66e-07   -510.952      0.000      -0.000      -0.000\n",
      "spin_eff              0.2797      0.001    195.468      0.000       0.277       0.282\n",
      "==============================================================================\n",
      "Omnibus:                   159079.023   Durbin-Watson:                   1.512\n",
      "Prob(Omnibus):                  0.000   Jarque-Bera (JB):           195697.518\n",
      "Skew:                          -0.704   Prob(JB):                         0.00\n",
      "Kurtosis:                       3.371   Cond. No.                     8.89e+03\n",
      "==============================================================================\n",
      "\n",
      "Notes:\n",
      "[1] R² is computed without centering (uncentered) since the model does not contain a constant.\n",
      "[2] Standard Errors assume that the covariance matrix of the errors is correctly specified.\n",
      "[3] The condition number is large, 8.89e+03. This might indicate that there are\n",
      "strong multicollinearity or other numerical problems.\n"
     ]
    }
   ],
   "source": [
    "print('\\t\\t\\t\\t'.center(10) + 'Vertical Break\\n' + '\\n' * 4)\n",
    "print(results_z.summary())"
   ]
  },
  {
   "cell_type": "code",
   "execution_count": 17,
   "id": "189016e3",
   "metadata": {},
   "outputs": [],
   "source": [
    "X_train, X_test, y_train, y_test = train_test_split(X, y_x, random_state = 42, test_size = 0.2)\n",
    "X_train_z, X_test_z, y_train_z, y_test_z = train_test_split(X, y_z, random_state = 42, test_size = 0.2)"
   ]
  },
  {
   "cell_type": "code",
   "execution_count": 23,
   "id": "c966e5ab",
   "metadata": {},
   "outputs": [
    {
     "name": "stdout",
     "output_type": "stream",
     "text": [
      "Baseline Model\n",
      "------------Horizontal Break----------------\n",
      "R^2: 0.0\n",
      "MSE: 0.6314235413432038\n",
      "RMSE: 0.7946216340770013\n",
      "MAE: 0.6822416708844461\n",
      "\n",
      "------------Vertical Break----------------\n",
      "R^2: 0.0\n",
      "MSE: 0.5250371667719456\n",
      "RMSE: 0.7245944843648381\n",
      "MAE: 0.5933003478865521\n"
     ]
    }
   ],
   "source": [
    "# Baseline Model\n",
    "\n",
    "y_dummy_x = np.array([y_test.mean()] * len(y_test))\n",
    "y_dummy_z = np.array([y_test_z.mean()] * len(y_test_z))\n",
    "\n",
    "print('Baseline Model')\n",
    "print('------------Horizontal Break----------------')\n",
    "print('R^2:', r2_score(y_test, y_dummy_x))\n",
    "print('MSE:', mean_squared_error(y_test, y_dummy_x))\n",
    "print('RMSE:', np.sqrt(mean_squared_error(y_test, y_dummy_x)))\n",
    "print('MAE:', mean_absolute_error(y_test, y_dummy_x))\n",
    "\n",
    "\n",
    "print('\\n------------Vertical Break----------------')\n",
    "print('R^2:', r2_score(y_test_z, y_dummy_z))\n",
    "print('MSE:', mean_squared_error(y_test_z, y_dummy_z))\n",
    "print('RMSE:', np.sqrt(mean_squared_error(y_test_z, y_dummy_z)))\n",
    "print('MAE:', mean_absolute_error(y_test_z, y_dummy_z))"
   ]
  },
  {
   "cell_type": "code",
   "execution_count": 18,
   "id": "31179e65",
   "metadata": {},
   "outputs": [],
   "source": [
    "linear = LinearRegression()\n",
    "\n",
    "linear.fit(X_train, y_train)\n",
    "\n",
    "lin_pred_x = linear.predict(X_test)\n",
    "\n",
    "\n",
    "linear.fit(X_train_z, y_train_z)\n",
    "\n",
    "lin_pred_z = linear.predict(X_test_z)"
   ]
  },
  {
   "cell_type": "code",
   "execution_count": 19,
   "id": "4554ee33",
   "metadata": {
    "scrolled": false
   },
   "outputs": [
    {
     "name": "stdout",
     "output_type": "stream",
     "text": [
      "Linear Regression\n",
      "------------Horizontal Break----------------\n",
      "R^2: 0.738984047276444\n",
      "MSE: 0.16481161721577797\n",
      "RMSE: 0.4059699708300824\n",
      "MAE: 0.31381063692116745\n",
      "\n",
      "------------Vertical Break----------------\n",
      "R^2: 0.5076075634910426\n",
      "MSE: 0.2585243298045981\n",
      "RMSE: 0.5084528786471743\n",
      "MAE: 0.3912327453906591\n"
     ]
    }
   ],
   "source": [
    "print('Linear Regression')\n",
    "print('------------Horizontal Break----------------')\n",
    "print('R^2:', r2_score(y_test, lin_pred_x))\n",
    "print('MSE:', mean_squared_error(y_test, lin_pred_x))\n",
    "print('RMSE:', np.sqrt(mean_squared_error(y_test, lin_pred_x)))\n",
    "print('MAE:', mean_absolute_error(y_test, lin_pred_x))\n",
    "\n",
    "\n",
    "print('\\n------------Vertical Break----------------')\n",
    "print('R^2:', r2_score(y_test_z, lin_pred_z))\n",
    "print('MSE:', mean_squared_error(y_test_z, lin_pred_z))\n",
    "print('RMSE:', np.sqrt(mean_squared_error(y_test_z, lin_pred_z)))\n",
    "print('MAE:', mean_absolute_error(y_test_z, lin_pred_z))"
   ]
  },
  {
   "cell_type": "code",
   "execution_count": 20,
   "id": "9bdb7e8d",
   "metadata": {},
   "outputs": [],
   "source": [
    "xgb = XGBRegressor()\n",
    "\n",
    "xgb.fit(X_train, y_train)\n",
    "\n",
    "xgb_pred_x = xgb.predict(X_test)\n",
    "\n",
    "xgb.fit(X_train_z, y_train_z)\n",
    "\n",
    "xgb_pred_z = xgb.predict(X_test_z)"
   ]
  },
  {
   "cell_type": "code",
   "execution_count": 21,
   "id": "25b4d1a2",
   "metadata": {
    "scrolled": true
   },
   "outputs": [
    {
     "name": "stdout",
     "output_type": "stream",
     "text": [
      "XGBoost\n",
      "------------Horizontal Break----------------\n",
      "R^2: 0.9183182255915376\n",
      "MSE: 0.05157579526018799\n",
      "RMSE: 0.22710304986985091\n",
      "MAE: 0.16691379308828994\n",
      "\n",
      "------------Vertical Break----------------\n",
      "R^2: 0.8707215193150736\n",
      "MSE: 0.06787600722339546\n",
      "RMSE: 0.2605302424352986\n",
      "MAE: 0.192148895453624\n"
     ]
    }
   ],
   "source": [
    "print('XGBoost')\n",
    "print('------------Horizontal Break----------------')\n",
    "print('R^2:', r2_score(y_test, xgb_pred_x))\n",
    "print('MSE:', mean_squared_error(y_test, xgb_pred_x))\n",
    "print('RMSE:', np.sqrt(mean_squared_error(y_test, xgb_pred_x)))\n",
    "print('MAE:', mean_absolute_error(y_test, xgb_pred_x))\n",
    "\n",
    "\n",
    "print('\\n------------Vertical Break----------------')\n",
    "print('R^2:', r2_score(y_test_z, xgb_pred_z))\n",
    "print('MSE:', mean_squared_error(y_test_z, xgb_pred_z))\n",
    "print('RMSE:', np.sqrt(mean_squared_error(y_test_z, xgb_pred_z)))\n",
    "print('MAE:', mean_absolute_error(y_test_z, xgb_pred_z))"
   ]
  },
  {
   "cell_type": "code",
   "execution_count": 24,
   "id": "f815ad22",
   "metadata": {},
   "outputs": [
    {
     "data": {
      "text/html": [
       "<div>\n",
       "<style scoped>\n",
       "    .dataframe tbody tr th:only-of-type {\n",
       "        vertical-align: middle;\n",
       "    }\n",
       "\n",
       "    .dataframe tbody tr th {\n",
       "        vertical-align: top;\n",
       "    }\n",
       "\n",
       "    .dataframe thead th {\n",
       "        text-align: right;\n",
       "    }\n",
       "</style>\n",
       "<table border=\"1\" class=\"dataframe\">\n",
       "  <thead>\n",
       "    <tr style=\"text-align: right;\">\n",
       "      <th></th>\n",
       "      <th>Feature</th>\n",
       "      <th>Importance</th>\n",
       "    </tr>\n",
       "  </thead>\n",
       "  <tbody>\n",
       "    <tr>\n",
       "      <th>0</th>\n",
       "      <td>spin_axis</td>\n",
       "      <td>0.843</td>\n",
       "    </tr>\n",
       "    <tr>\n",
       "      <th>1</th>\n",
       "      <td>release_spin_rate</td>\n",
       "      <td>0.030</td>\n",
       "    </tr>\n",
       "    <tr>\n",
       "      <th>2</th>\n",
       "      <td>spin_eff</td>\n",
       "      <td>0.127</td>\n",
       "    </tr>\n",
       "  </tbody>\n",
       "</table>\n",
       "</div>"
      ],
      "text/plain": [
       "             Feature  Importance\n",
       "0          spin_axis       0.843\n",
       "1  release_spin_rate       0.030\n",
       "2           spin_eff       0.127"
      ]
     },
     "execution_count": 24,
     "metadata": {},
     "output_type": "execute_result"
    }
   ],
   "source": [
    "pd.DataFrame({\n",
    "    'Feature': xgb.feature_names_in_,\n",
    "    'Importance': xgb.feature_importances_\n",
    "})\n"
   ]
  },
  {
   "cell_type": "markdown",
   "id": "02775a57",
   "metadata": {},
   "source": [
    "This is not bad, but we can do better. Running this through a KFold and tuning the paremeters will be the best best for making predictions to add a little more accuracy."
   ]
  },
  {
   "cell_type": "code",
   "execution_count": 25,
   "id": "09c71ab0",
   "metadata": {},
   "outputs": [
    {
     "name": "stderr",
     "output_type": "stream",
     "text": [
      "0it [00:00, ?it/s]/var/folders/0m/p03jcv9j4td3thddmd99m0300000gp/T/ipykernel_43552/206954754.py:20: FutureWarning: The behavior of array concatenation with empty entries is deprecated. In a future version, this will no longer exclude empty items when determining the result dtype. To retain the old behavior, exclude the empty entries before the concat operation.\n",
      "  result = pd.concat([result, _result])\n",
      "10it [01:34,  9.42s/it]\n",
      "0it [00:00, ?it/s]/var/folders/0m/p03jcv9j4td3thddmd99m0300000gp/T/ipykernel_43552/206954754.py:20: FutureWarning: The behavior of array concatenation with empty entries is deprecated. In a future version, this will no longer exclude empty items when determining the result dtype. To retain the old behavior, exclude the empty entries before the concat operation.\n",
      "  result = pd.concat([result, _result])\n",
      "10it [01:35,  9.60s/it]\n"
     ]
    }
   ],
   "source": [
    "features = ['spin_axis', 'release_spin_rate', 'spin_eff']\n",
    "targets = ['pfx_x', 'pfx_z']\n",
    "\n",
    "\n",
    "for target in targets:\n",
    "    folds = 10\n",
    "    kf = KFold(folds, shuffle=True)\n",
    "    \n",
    "    result = pd.Series()\n",
    "    \n",
    "    for train_idx, test_idx in tqdm(kf.split(savant)):\n",
    "        train = savant.iloc[train_idx]\n",
    "        test = savant.iloc[test_idx]\n",
    "        \n",
    "        model = XGBRegressor(n_estimators=300, eta = 0.1)\n",
    "        model.fit(train.loc[:, features], train[target])\n",
    "        \n",
    "        _result = pd.Series(model.predict(test.loc[:, features]), index = test.index)\n",
    "        result = pd.concat([result, _result])\n",
    "    savant[f'{target}_pred'] = result"
   ]
  },
  {
   "cell_type": "code",
   "execution_count": 26,
   "id": "a75e3092",
   "metadata": {},
   "outputs": [
    {
     "data": {
      "text/html": [
       "<div>\n",
       "<style scoped>\n",
       "    .dataframe tbody tr th:only-of-type {\n",
       "        vertical-align: middle;\n",
       "    }\n",
       "\n",
       "    .dataframe tbody tr th {\n",
       "        vertical-align: top;\n",
       "    }\n",
       "\n",
       "    .dataframe thead th {\n",
       "        text-align: right;\n",
       "    }\n",
       "</style>\n",
       "<table border=\"1\" class=\"dataframe\">\n",
       "  <thead>\n",
       "    <tr style=\"text-align: right;\">\n",
       "      <th></th>\n",
       "      <th>Feature</th>\n",
       "      <th>Importance</th>\n",
       "    </tr>\n",
       "  </thead>\n",
       "  <tbody>\n",
       "    <tr>\n",
       "      <th>0</th>\n",
       "      <td>spin_axis</td>\n",
       "      <td>0.836</td>\n",
       "    </tr>\n",
       "    <tr>\n",
       "      <th>1</th>\n",
       "      <td>release_spin_rate</td>\n",
       "      <td>0.034</td>\n",
       "    </tr>\n",
       "    <tr>\n",
       "      <th>2</th>\n",
       "      <td>spin_eff</td>\n",
       "      <td>0.130</td>\n",
       "    </tr>\n",
       "  </tbody>\n",
       "</table>\n",
       "</div>"
      ],
      "text/plain": [
       "             Feature  Importance\n",
       "0          spin_axis       0.836\n",
       "1  release_spin_rate       0.034\n",
       "2           spin_eff       0.130"
      ]
     },
     "execution_count": 26,
     "metadata": {},
     "output_type": "execute_result"
    }
   ],
   "source": [
    "pd.DataFrame({\n",
    "    'Feature': model.feature_names_in_,\n",
    "    'Importance': model.feature_importances_\n",
    "})\n"
   ]
  },
  {
   "cell_type": "code",
   "execution_count": 19,
   "id": "c5abbff5",
   "metadata": {},
   "outputs": [
    {
     "name": "stdout",
     "output_type": "stream",
     "text": [
      "XGBoost Tuned\n",
      "------------Horizontal Break----------------\n",
      "R^2: 0.918999541557204\n",
      "MSE: 0.05112567406881292\n",
      "RMSE: 0.22610987167484067\n",
      "MAE: 0.16626338008498298\n",
      "\n",
      "------------Vertical Break----------------\n",
      "R^2: 0.8708832631980387\n",
      "MSE: 0.06769025737941593\n",
      "RMSE: 0.26017351398521704\n",
      "MAE: 0.19178027228009706\n"
     ]
    }
   ],
   "source": [
    "y_x = savant['pfx_x']\n",
    "x_pred = savant['pfx_x_pred']\n",
    "print('XGBoost Tuned')\n",
    "print('------------Horizontal Break----------------')\n",
    "print('R^2:', r2_score(y_x, x_pred))\n",
    "print('MSE:', mean_squared_error(y_x, x_pred))\n",
    "print('RMSE:', np.sqrt(mean_squared_error(y_x, x_pred)))\n",
    "print('MAE:', mean_absolute_error(y_x, x_pred))\n",
    "\n",
    "y_z = savant['pfx_z']\n",
    "z_pred = savant['pfx_z_pred']\n",
    "print('\\n------------Vertical Break----------------')\n",
    "print('R^2:', r2_score(y_z, z_pred))\n",
    "print('MSE:', mean_squared_error(y_z, z_pred))\n",
    "print('RMSE:', np.sqrt(mean_squared_error(y_z, z_pred)))\n",
    "print('MAE:', mean_absolute_error(y_z, z_pred))"
   ]
  },
  {
   "cell_type": "code",
   "execution_count": 20,
   "id": "b666e1b0",
   "metadata": {},
   "outputs": [],
   "source": [
    "savant['ssw_x'] = savant['pfx_x'] - savant['pfx_x_pred']\n",
    "savant['ssw_z'] = savant['pfx_z'] - savant['pfx_z_pred']\n",
    "savant['delta_sum'] = abs(savant['ssw_z']) + abs(savant['ssw_x'])"
   ]
  },
  {
   "cell_type": "code",
   "execution_count": 21,
   "id": "2e582eb3",
   "metadata": {},
   "outputs": [],
   "source": [
    "c = savant.dropna(subset='delta_run_exp')\n",
    "x_data, y_data = c['delta_sum'], c['delta_run_exp']\n",
    "coeffs = np.polyfit(x_data, y_data, 4)\n",
    "poly_func = np.poly1d(coeffs)\n",
    "x_new = np.linspace(min(x_data), max(x_data), 300)\n",
    "y_new = poly_func(x_new)"
   ]
  },
  {
   "cell_type": "code",
   "execution_count": 274,
   "id": "0c206db2",
   "metadata": {},
   "outputs": [
    {
     "data": {
      "text/plain": [
       "Text(0, 0.5, 'Delta Run Expectancy')"
      ]
     },
     "execution_count": 274,
     "metadata": {},
     "output_type": "execute_result"
    },
    {
     "data": {
      "image/png": "[encoded data removed]",
      "text/plain": [
       "<Figure size 640x480 with 1 Axes>"
      ]
     },
     "metadata": {},
     "output_type": "display_data"
    }
   ],
   "source": [
    "import matplotlib.pyplot as plt\n",
    "plt.plot(x_new, y_new)\n",
    "\n",
    "plt.title('4th Degree Polynomial Regression Plot')\n",
    "plt.xlabel('Delta Change from Acutal vs. Expected Movement')\n",
    "plt.ylabel('Delta Run Expectancy')\n"
   ]
  },
  {
   "cell_type": "code",
   "execution_count": 275,
   "id": "a9e42c8b",
   "metadata": {},
   "outputs": [
    {
     "data": {
      "text/plain": [
       "count   2215636.000\n",
       "mean          0.358\n",
       "std           0.284\n",
       "min           0.000\n",
       "25%           0.145\n",
       "50%           0.281\n",
       "75%           0.495\n",
       "max           5.323\n",
       "Name: delta_sum, dtype: float64"
      ]
     },
     "execution_count": 275,
     "metadata": {},
     "output_type": "execute_result"
    }
   ],
   "source": [
    "c['delta_sum'].describe()"
   ]
  }
 ],
 "metadata": {
  "kernelspec": {
   "display_name": "Python 3 (ipykernel)",
   "language": "python",
   "name": "python3"
  },
  "language_info": {
   "codemirror_mode": {
    "name": "ipython",
    "version": 3
   },
   "file_extension": ".py",
   "mimetype": "text/x-python",
   "name": "python",
   "nbconvert_exporter": "python",
   "pygments_lexer": "ipython3",
   "version": "3.11.7"
  }
 },
 "nbformat": 4,
 "nbformat_minor": 5
}
